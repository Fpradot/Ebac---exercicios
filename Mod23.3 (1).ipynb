{
 "cells": [
  {
   "cell_type": "markdown",
   "metadata": {},
   "source": [
    "## Módulo 23 - Tarefa 03\n",
    "- Quais são os hyperparâmetros do Random Forest?\n",
    "- Pra que serve cada um deles?\n",
    "\n",
    "### Hyperparâmetros do Random Forest:\n",
    "\n",
    "##### n_estimators\n",
    "Número de árvores do modelo. Existe o pensamento que quanto mais árvores melhor, porém a partir de determinado número de árvores a performance do modelo fica estagnada, cabe a quem está montando o modelo identificar a partir de qual valor ocorre esta estagnação.\n",
    "\n",
    "##### criterion\n",
    "Escolhe a função que vai medir a qualidade das separações, sendo suportados \"gini\", \"log_loss\" e \"entropy\".\n",
    "\n",
    "##### max_depth\n",
    "O max_depth de uma árvore no Random Forest é o caminho mais longo entre o nó raiz e o nó folha.\n",
    "Serve para limitar a profundidade que as árvores do modelo crescerão. Valores muito baixos produzirão modelos com pouca acurácia e valores altos produzirão modelos com overfitting nos dados da base treino, diminuindo a acurácia na base teste.\n",
    "\n",
    "##### ccp_alpha\n",
    "Parâmetro utilizado para o Minimal Cost-Complexity Pruning. A sub-árvore com maior complexidade de custo (cost complexity) com valor menor que o informado de ccp_alpha será a escolhida.\n",
    "\n",
    "##### max_samples\n",
    "Se bootstrap = True, max_samples é a fração do dataset original que vamos oferecer a cada árvore individual.\n",
    "Geralmente não precisamos fornecer toda base de dados para obtermos um modelo com boa acurácia, o que reduz muito o tempo de treinamento do nosso modelo.\n",
    "\n",
    "##### min_samples_split\n",
    "Informa o número mínimo necessário de observações em um nó para dividi-lo. Usar apenas esse parâmentro com default = 2 a árvore continua se dividindo até os nós estarem puros, causando overfitting dos dados, semelhante ao max_depth valores muito baixos ou muito altos podem ser prejudiciais ao modelo.\n",
    "\n",
    "##### min_samples_leaf\n",
    "Especifica o número mínimo de amostras que devem estar presentes no nó folha após a divisão de um nó.\n",
    "Valores muito baixos causam overfitting e valores altos deslocam o modelo para o underfitting.\n",
    "\n",
    "##### min_weight_fraction_leaf\n",
    "A fração ponderada mínima da soma total de pesos (de todas as amostras de entrada) necessária para estar em um nó folha.\n",
    "\n",
    "##### max_features\n",
    "Número máximo de recursos fornecidos a cada árvore.\n",
    "Desempenho tende a aumentar inicialmente proporcionalmente com o aumento do max_features até um momento de saturação, recomenda-se utilizar o padrão do modelo que é raiz quadrada do número de recursos presentes no conjunto de dados, o número ideal geralmente tende a ficar próximo desse valor."
   ]
  },
  {
   "cell_type": "code",
   "execution_count": null,
   "metadata": {},
   "outputs": [],
   "source": []
  }
 ],
 "metadata": {
  "kernelspec": {
   "display_name": "Python 3 (ipykernel)",
   "language": "python",
   "name": "python3"
  },
  "language_info": {
   "codemirror_mode": {
    "name": "ipython",
    "version": 3
   },
   "file_extension": ".py",
   "mimetype": "text/x-python",
   "name": "python",
   "nbconvert_exporter": "python",
   "pygments_lexer": "ipython3",
   "version": "3.9.12"
  },
  "toc": {
   "base_numbering": 1,
   "nav_menu": {},
   "number_sections": false,
   "sideBar": true,
   "skip_h1_title": true,
   "title_cell": "Índice",
   "title_sidebar": "Conteúdo",
   "toc_cell": false,
   "toc_position": {},
   "toc_section_display": true,
   "toc_window_display": false
  },
  "varInspector": {
   "cols": {
    "lenName": 16,
    "lenType": 16,
    "lenVar": 40
   },
   "kernels_config": {
    "python": {
     "delete_cmd_postfix": "",
     "delete_cmd_prefix": "del ",
     "library": "var_list.py",
     "varRefreshCmd": "print(var_dic_list())"
    },
    "r": {
     "delete_cmd_postfix": ") ",
     "delete_cmd_prefix": "rm(",
     "library": "var_list.r",
     "varRefreshCmd": "cat(var_dic_list()) "
    }
   },
   "types_to_exclude": [
    "module",
    "function",
    "builtin_function_or_method",
    "instance",
    "_Feature"
   ],
   "window_display": false
  }
 },
 "nbformat": 4,
 "nbformat_minor": 4
}
