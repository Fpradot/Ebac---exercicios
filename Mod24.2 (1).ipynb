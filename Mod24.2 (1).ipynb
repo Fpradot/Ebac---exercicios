{
 "cells": [
  {
   "cell_type": "markdown",
   "metadata": {},
   "source": [
    "## Módulo 24 - Tarefa 02\n",
    "- Cite 5 diferenças entre o AdaBoost e o GBM.\n",
    "- Acesse o link Scikit-learn - GBM, leia a explicação (traduza se for preciso) e crie um jupyter notebook contendo o exemplo de - classificação e de regressão do GBM.\n",
    "- Cite 5 Hyperparametros importantes no GBM.\n",
    "- Acessando o artigo do Jerome Friedman Stochastic e pensando no nome dado ao Stochastic GBM, qual é a maior diferença entre os dois algoritmos?\n",
    "\n",
    "\n",
    "### 1. Árvores de Decisão vs Stumps de Decisão\n",
    "GBM faz uso de diversas árvores de decisão que possuem profundidades variadas. Já o AdaBoost utiliza Stumps de decisão, que nada mais são do que árvores de decisão com um nó e duas folhas apenas.\n",
    "\n",
    "##### Pesos\n",
    "No GBM as decisões tomadas por cada árvore possuem o mesmo peso na decisão final e são multiplicados por uma mesma constante (eta), já no AdaBoost o peso de cada Stump pode variar, sendo que alguns Stumps terão mais peso na decisão final do que outros.\n",
    "\n",
    "##### Primeiro Passo\n",
    "No AdaBoost o primeiro passo é um Stump de decisão, já no GBM primeiro tiramos a média da variável resposta pra apartir dai começarmos a criar árvores de decisão.\n",
    "\n",
    "##### Resíduo vs Resposta\n",
    "No AdaBoost cada Stump fornece uma resposta, que por média ou votação considerando os pesos resulta na resposta final, no GBM cada árvore de decisão é criada para prever o resíduo, que depois é transformado na resposta final do modelo.\n",
    "\n",
    "##### Base para a Árvore\n",
    "No AdaBoost a base de dados utilizada em cada Stump varia dependendo dos resultados obtidos no Stump anterior, no GBM cada árvore depende dos resíduos encontrados nas árvores anteriores."
   ]
  },
  {
   "cell_type": "markdown",
   "metadata": {},
   "source": [
    "### 2."
   ]
  },
  {
   "cell_type": "code",
   "execution_count": 15,
   "metadata": {},
   "outputs": [],
   "source": [
    "from sklearn.datasets import make_hastie_10_2\n",
    "from sklearn.ensemble import GradientBoostingClassifier\n",
    "import numpy as np\n",
    "from sklearn.metrics import mean_squared_error\n",
    "from sklearn.datasets import make_friedman1\n",
    "from sklearn.ensemble import GradientBoostingRegressor"
   ]
  },
  {
   "cell_type": "code",
   "execution_count": 12,
   "metadata": {},
   "outputs": [],
   "source": [
    "X, y = make_hastie_10_2(random_state=0)\n",
    "X_train, X_test = X[:2000], X[2000:]\n",
    "y_train, y_test = y[:2000], y[2000:]"
   ]
  },
  {
   "cell_type": "code",
   "execution_count": 13,
   "metadata": {},
   "outputs": [],
   "source": [
    "clf = GradientBoostingClassifier(n_estimators=100, learning_rate=1.0, max_depth=1, random_state=0).fit(X_train, y_train)"
   ]
  },
  {
   "cell_type": "code",
   "execution_count": 14,
   "metadata": {},
   "outputs": [
    {
     "data": {
      "text/plain": [
       "0.913"
      ]
     },
     "execution_count": 14,
     "metadata": {},
     "output_type": "execute_result"
    }
   ],
   "source": [
    "clf.score(X_test, y_test)"
   ]
  },
  {
   "cell_type": "code",
   "execution_count": 17,
   "metadata": {},
   "outputs": [],
   "source": [
    "X, y = make_friedman1(n_samples=1200, random_state=0, noise=1.0)\n",
    "X_train, X_test = X[:200], X[200:]\n",
    "y_train, y_test = y[:200], y[200:]"
   ]
  },
  {
   "cell_type": "code",
   "execution_count": 18,
   "metadata": {},
   "outputs": [],
   "source": [
    "est = GradientBoostingRegressor(n_estimators=100, learning_rate=0.1, \n",
    "                                max_depth=1, random_state=0, loss='squared_error').fit(X_train, y_train)"
   ]
  },
  {
   "cell_type": "code",
   "execution_count": 19,
   "metadata": {},
   "outputs": [
    {
     "data": {
      "text/plain": [
       "5.009154859960321"
      ]
     },
     "execution_count": 19,
     "metadata": {},
     "output_type": "execute_result"
    }
   ],
   "source": [
    "mean_squared_error(y_test, est.predict(X_test))"
   ]
  },
  {
   "cell_type": "markdown",
   "metadata": {},
   "source": [
    "### 3.\n",
    "##### n_estimators\n",
    "Número de etapas que o boosting precisa realizar. Gradient Boosting é robusto a overfitting, geralmente quanto maior o valor, melhor a performance.\n",
    "\n",
    "##### learning_rate\n",
    "Reduz a contribuição de cada árvore pelo learning_rate.\n",
    "\n",
    "##### min_samples_leaf\n",
    "O número mínimo de amostras necessárias para estar em um nó folha. Um ponto de divisão em qualquer profundidade só será considerado se deixar pelo menos min_samples_leaf amostras de treinamento em cada um dos ramos esquerdo e direito. Isso pode ter o efeito de suavizar o modelo, especialmente na regressão.\n",
    "\n",
    "##### max_depth\n",
    "A profundidade máxima dos estimadores de regressão individuais. A profundidade máxima limita o número de nós na árvore.\n",
    "\n",
    "##### ccp_alpha\n",
    "Parâmetro de complexidade usado para Minimal Cost-Complexity Pruning. A subárvore com a maior complexidade de custo que for menor do que ccp_alpha será escolhida.\n",
    "\n",
    "### 4.\n",
    "A principal diferença é que no Stochastic GBM é a incorporação da aleatoriedade como parte integral do processo. Em cada iteração uma sub-amostra de base de treino é extraída de maneira aleatória (sem reposição) da base de treino completa. Etapa que não existe no GBM."
   ]
  },
  {
   "cell_type": "code",
   "execution_count": null,
   "metadata": {},
   "outputs": [],
   "source": []
  }
 ],
 "metadata": {
  "kernelspec": {
   "display_name": "Python 3 (ipykernel)",
   "language": "python",
   "name": "python3"
  },
  "language_info": {
   "codemirror_mode": {
    "name": "ipython",
    "version": 3
   },
   "file_extension": ".py",
   "mimetype": "text/x-python",
   "name": "python",
   "nbconvert_exporter": "python",
   "pygments_lexer": "ipython3",
   "version": "3.9.12"
  },
  "toc": {
   "base_numbering": 1,
   "nav_menu": {},
   "number_sections": false,
   "sideBar": true,
   "skip_h1_title": true,
   "title_cell": "Índice",
   "title_sidebar": "Conteúdo",
   "toc_cell": false,
   "toc_position": {},
   "toc_section_display": true,
   "toc_window_display": false
  },
  "varInspector": {
   "cols": {
    "lenName": 16,
    "lenType": 16,
    "lenVar": 40
   },
   "kernels_config": {
    "python": {
     "delete_cmd_postfix": "",
     "delete_cmd_prefix": "del ",
     "library": "var_list.py",
     "varRefreshCmd": "print(var_dic_list())"
    },
    "r": {
     "delete_cmd_postfix": ") ",
     "delete_cmd_prefix": "rm(",
     "library": "var_list.r",
     "varRefreshCmd": "cat(var_dic_list()) "
    }
   },
   "types_to_exclude": [
    "module",
    "function",
    "builtin_function_or_method",
    "instance",
    "_Feature"
   ],
   "window_display": false
  }
 },
 "nbformat": 4,
 "nbformat_minor": 4
}
