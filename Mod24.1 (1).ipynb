{
 "cells": [
  {
   "cell_type": "markdown",
   "metadata": {},
   "source": [
    "## Módulo 24 - Tarefa 01\n",
    "- Cite 5 diferenças entre o Random Forest e o AdaBoost\n",
    "- Acesse o link Scikit-learn - adaboost, leia a explicação (traduza se for preciso) e crie um jupyter notebook contendo o exemplo do AdaBoost\n",
    "- Cite 5 Hyperparametros importantes no AdaBoost\n",
    "\n",
    "### 1. Árvores de Decisão vs Tocos de Decisão\n",
    "Random Forest faz uso de diversas árvores de decisão que possuem profundidades variadas. Já o AdaBoost utiliza tocos (Stumps) de decisão, que nada mais são do que árvores de decisão com um nó e duas folhas apenas.\n",
    "\n",
    "### Amostragem de Dados\n",
    "Ambos os métodos utilizam amostragem de dados, porém diferem um pouco em cada caso. Random Forest utiliza o Bagging na amostra principal para seleção das amostras para as árvores de decisão. No AdaBoost cada toco de decisão tem uma amostra que depende do resultado do toco anterior devido ao sistema de pesos que existe neste modelo.\n",
    "\n",
    "##### Pesos\n",
    "No Random Forest as decisões tomadas por cada árvore possuem o mesmo peso na decisão final, já no AdaBoost o peso de cada toco pode variar, sendo que alguns tocos terão mais peso na decisão final do que outros.\n",
    "\n",
    "##### Ordem das Árvores\n",
    "No Random Forest as árvores de decisão são geradas de maneira independente uma das outras. No AdaBoost cada toco de decisão sofre influencia dos erros cometidos no toco de decisão anterior.\n",
    "\n",
    "##### Precisão da Classificação\n",
    "Random Forest geralmente acaba sendo mais preciso em modelos de classificação por utilizar mais de uma variável explicativa no modelo, em contraste ao AdaBoost que utiliza apenas uma variável explicativa por toco de decisão."
   ]
  },
  {
   "cell_type": "markdown",
   "metadata": {},
   "source": [
    "### 2."
   ]
  },
  {
   "cell_type": "code",
   "execution_count": 9,
   "metadata": {},
   "outputs": [],
   "source": [
    "from sklearn.model_selection import cross_val_score\n",
    "from sklearn.datasets import load_iris\n",
    "from sklearn.ensemble import AdaBoostClassifier\n",
    "from sklearn.datasets import load_iris\n",
    "from sklearn.model_selection import GridSearchCV, RepeatedStratifiedKFold\n",
    "from sklearn.pipeline import make_pipeline\n",
    "from sklearn.preprocessing import StandardScaler\n"
   ]
  },
  {
   "cell_type": "code",
   "execution_count": 3,
   "metadata": {},
   "outputs": [],
   "source": [
    "X, y = load_iris(return_X_y=True)\n",
    "clf = AdaBoostClassifier(n_estimators=100)"
   ]
  },
  {
   "cell_type": "code",
   "execution_count": 4,
   "metadata": {},
   "outputs": [],
   "source": [
    "scores = cross_val_score(clf, X, y, cv=5)"
   ]
  },
  {
   "cell_type": "code",
   "execution_count": 5,
   "metadata": {},
   "outputs": [
    {
     "data": {
      "text/plain": [
       "0.9466666666666665"
      ]
     },
     "execution_count": 5,
     "metadata": {},
     "output_type": "execute_result"
    }
   ],
   "source": [
    "scores.mean()"
   ]
  },
  {
   "cell_type": "code",
   "execution_count": null,
   "metadata": {},
   "outputs": [],
   "source": []
  },
  {
   "cell_type": "markdown",
   "metadata": {},
   "source": [
    "### 3.\n",
    "##### base_estimator\n",
    "Estimador base utilizado. Se None, então o estimador base é max_depth=1.\n",
    "\n",
    "##### n_estimators\n",
    "Número de estimadores no qual o boosting será realizado. Em caso de ajuste perfeito o processo de aprendizagem é interrompido precocemente.\n",
    "\n",
    "##### learning_rate\n",
    "Peso aplicado a cada classificador em cada iteração do boosting.\n",
    "\n",
    "##### algorithm\n",
    "Tipo do algoritmo boosting utilizado, escolha entre 'SAMME.R' e 'SAMME'.\n",
    "\n",
    "##### random_state\n",
    "Permite controlar a seed aleatória dada a cada base_estimator em cada iteração do boosting."
   ]
  },
  {
   "cell_type": "code",
   "execution_count": null,
   "metadata": {},
   "outputs": [],
   "source": []
  }
 ],
 "metadata": {
  "kernelspec": {
   "display_name": "Python 3 (ipykernel)",
   "language": "python",
   "name": "python3"
  },
  "language_info": {
   "codemirror_mode": {
    "name": "ipython",
    "version": 3
   },
   "file_extension": ".py",
   "mimetype": "text/x-python",
   "name": "python",
   "nbconvert_exporter": "python",
   "pygments_lexer": "ipython3",
   "version": "3.9.12"
  },
  "toc": {
   "base_numbering": 1,
   "nav_menu": {},
   "number_sections": false,
   "sideBar": true,
   "skip_h1_title": true,
   "title_cell": "Índice",
   "title_sidebar": "Conteúdo",
   "toc_cell": false,
   "toc_position": {},
   "toc_section_display": true,
   "toc_window_display": false
  },
  "varInspector": {
   "cols": {
    "lenName": 16,
    "lenType": 16,
    "lenVar": 40
   },
   "kernels_config": {
    "python": {
     "delete_cmd_postfix": "",
     "delete_cmd_prefix": "del ",
     "library": "var_list.py",
     "varRefreshCmd": "print(var_dic_list())"
    },
    "r": {
     "delete_cmd_postfix": ") ",
     "delete_cmd_prefix": "rm(",
     "library": "var_list.r",
     "varRefreshCmd": "cat(var_dic_list()) "
    }
   },
   "types_to_exclude": [
    "module",
    "function",
    "builtin_function_or_method",
    "instance",
    "_Feature"
   ],
   "window_display": false
  }
 },
 "nbformat": 4,
 "nbformat_minor": 4
}
