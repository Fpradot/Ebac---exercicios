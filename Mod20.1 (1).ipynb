{
 "cells": [
  {
   "cell_type": "markdown",
   "id": "73d0ac6e",
   "metadata": {},
   "source": [
    "## <font color=\"#656EA0\">Fórmula de Bhaskara</font>\n",
    "A solução para uma função de segundo grau depende das suas raízes (valores de x). Como já vimos, os coeficientes\n",
    "precisam ser números reais e o angular diferente de zero. Sendo assim, temos a seguinte fórmula de Bhaskara:\n"
   ]
  },
  {
   "cell_type": "markdown",
   "id": "186c3d81",
   "metadata": {},
   "source": [
    "$$\\huge x =\\frac{-b \\pm \\sqrt{b^2-4.a.c}}{2.a} $$"
   ]
  },
  {
   "cell_type": "markdown",
   "id": "0efadf52",
   "metadata": {},
   "source": [
    "<em><center>Fórmula de Bhaskara.</center><em>\n",
    "    \n",
    "    \n",
    "Para melhor compreensão o seu cálculo é dividido em duas partes: discriminante da equação e operações para\n",
    "determinar as raízes."
   ]
  },
  {
   "cell_type": "markdown",
   "id": "6e3a813c",
   "metadata": {},
   "source": [
    "**<p>Discriminante</p>**\n",
    "\n",
    "\n",
    "A figura dentro da raiz na fórmula de Bhaskara é nomeada de discriminante. Seu símbolo é a letra grega delta e\n",
    "apresenta a determinada fórmula:\n"
   ]
  },
  {
   "cell_type": "markdown",
   "id": "cde689e4",
   "metadata": {},
   "source": [
    "$$\\huge\\Delta={b^2-4.a.c} $$"
   ]
  },
  {
   "cell_type": "markdown",
   "id": "a86617aa",
   "metadata": {},
   "source": [
    "<em><center>Fórmula da discriminante.</center><em>\n",
    "- Se o delta for maior que zero, a equação terá dois valores reais e distintos.\n",
    "- Se o delta for igual a zero, a equação terá somente um valor real ou dois resultados iguais.\n",
    "- Se o delta for menor que zero, a equação não possuirá valores reais."
   ]
  },
  {
   "cell_type": "code",
   "execution_count": null,
   "id": "af8b0ae9",
   "metadata": {},
   "outputs": [],
   "source": []
  }
 ],
 "metadata": {
  "kernelspec": {
   "display_name": "Python 3 (ipykernel)",
   "language": "python",
   "name": "python3"
  },
  "language_info": {
   "codemirror_mode": {
    "name": "ipython",
    "version": 3
   },
   "file_extension": ".py",
   "mimetype": "text/x-python",
   "name": "python",
   "nbconvert_exporter": "python",
   "pygments_lexer": "ipython3",
   "version": "3.9.12"
  }
 },
 "nbformat": 4,
 "nbformat_minor": 5
}
